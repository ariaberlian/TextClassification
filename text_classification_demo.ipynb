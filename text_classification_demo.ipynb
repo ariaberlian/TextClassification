{
 "cells": [
  {
   "cell_type": "markdown",
   "metadata": {},
   "source": "- **Classifiers**: Logistic Regression, SVM, Naive Bayes"
  },
  {
   "cell_type": "markdown",
   "metadata": {},
   "source": [
    "## 1. Setup and Imports"
   ]
  },
  {
   "cell_type": "code",
   "execution_count": 1,
   "metadata": {},
   "outputs": [
    {
     "name": "stdout",
     "output_type": "stream",
     "text": [
      "✓ All basic imports successful!\n",
      "✓ All custom modules imported successfully!\n",
      "\n",
      "=== System Ready! ===\n"
     ]
    }
   ],
   "source": [
    "import pandas as pd\n",
    "import numpy as np\n",
    "import matplotlib.pyplot as plt\n",
    "import seaborn as sns\n",
    "from sklearn.metrics import confusion_matrix\n",
    "import warnings\n",
    "warnings.filterwarnings('ignore')\n",
    "\n",
    "print(\"✓ All basic imports successful!\")\n",
    "\n",
    "# Now try our custom modules\n",
    "from dataset_loader import IndonesianSentimentLoader, DatasetFactory\n",
    "from pipeline import TextClassificationPipeline, PipelineComparison, create_preset_pipelines\n",
    "from vectorizers import VectorizerFactory, TFIDFVectorizer\n",
    "from classifiers import ClassifierFactory\n",
    "\n",
    "# Set up plotting style\n",
    "plt.style.use('default')\n",
    "sns.set_palette(\"husl\")\n",
    "\n",
    "print(\"✓ All custom modules imported successfully!\")\n",
    "print(\"\\n=== System Ready! ===\")"
   ]
  },
  {
   "cell_type": "markdown",
   "metadata": {},
   "source": [
    "## 2. Load Indonesian Sentiment Dataset"
   ]
  },
  {
   "cell_type": "code",
   "execution_count": 2,
   "metadata": {},
   "outputs": [
    {
     "name": "stdout",
     "output_type": "stream",
     "text": [
      "Loading indonlu dataset (smsa)...\n",
      "Loading SMSA dataset from GitHub TSV files...\n",
      "\n",
      "Dataset: indonlu (smsa)\n",
      "----------------------------------------\n",
      "Train set: 9852 samples\n",
      "Validation set: 1129 samples\n",
      "Test set: 412 samples\n",
      "\n",
      "Label mapping: {0: 'negative', 1: 'positive'}\n",
      "\n",
      "Label distribution in training set:\n",
      "  negative: 3436 samples\n",
      "  positive: 6416 samples\n",
      "\n",
      "Sample texts:\n",
      "  [positive] warung ini dimiliki oleh pengusaha pabrik tahu yang sudah puluhan tahun terkenal membuat tahu putih ...\n",
      "  [positive] lokasi strategis di jalan sumatera bandung . tempat nya nyaman terutama sofa di lantai 2 . paella ny...\n",
      "  [positive] betapa bahagia nya diri ini saat unboxing paket dan barang nya bagus ! menetapkan beli lagi !...\n"
     ]
    }
   ],
   "source": [
    "# Load the dataset\n",
    "loader = DatasetFactory.create_loader(\"indonlu\")  # Use \"indonlu\" for real dataset\n",
    "dataset_splits = loader.load_data()\n",
    "\n",
    "# Print dataset information\n",
    "loader.print_dataset_info()"
   ]
  },
  {
   "cell_type": "code",
   "execution_count": 3,
   "metadata": {},
   "outputs": [
    {
     "name": "stdout",
     "output_type": "stream",
     "text": [
      "Training set: 800 samples\n",
      "Validation set: 100 samples\n",
      "Test set: 100 samples\n",
      "\n",
      "Sample training examples:\n",
      "[positive] saya lebih menyukai menu lain di bandingkan bakso nya , menu favorit saya adalah cah kangkung nya . enak dan segar dengan kangkung yang 3 / 4 matang .\n",
      "[positive] ikhlas dalam mengambil hikmah belajar dari kehidupan menjadikan kita orang yang kuat dalam menghadapi apa pun .\n",
      "[positive] tempat nya enak banget apalagi kalau bawa pasangan . makanan di bistro kafe nya enak sampai bela - belain menginap disini buat makan buntut goreng nya\n"
     ]
    }
   ],
   "source": [
    "# Get train/validation/test splits\n",
    "X_train, X_val, X_test, y_train, y_val, y_test = loader.get_train_test_split(\n",
    "    test_size=0.2, val_size=0.1, random_state=42, max_samples=1000\n",
    ")\n",
    "\n",
    "print(f\"Training set: {len(X_train)} samples\")\n",
    "print(f\"Validation set: {len(X_val)} samples\")\n",
    "print(f\"Test set: {len(X_test)} samples\")\n",
    "\n",
    "# Show some examples\n",
    "print(\"\\nSample training examples:\")\n",
    "for i in range(min(3, len(X_train))):\n",
    "    label_name = loader.label_mapping.get(y_train[i], y_train[i])\n",
    "    print(f\"[{label_name}] {X_train[i]}\")"
   ]
  },
  {
   "cell_type": "markdown",
   "metadata": {},
   "source": [
    "## 3. Quick Start: Single Pipeline Example"
   ]
  },
  {
   "cell_type": "code",
   "execution_count": 4,
   "metadata": {},
   "outputs": [
    {
     "name": "stderr",
     "output_type": "stream",
     "text": [
      "Some weights of BertForSequenceClassification were not initialized from the model checkpoint at indolem/indobert-base-uncased and are newly initialized: ['classifier.bias', 'classifier.weight']\n",
      "You should probably TRAIN this model on a down-stream task to be able to use it for predictions and inference.\n"
     ]
    },
    {
     "name": "stdout",
     "output_type": "stream",
     "text": [
      "Pipeline configuration:\n",
      "{'vectorizer_type': 'indobert_finetune', 'classifier_type': 'dummy', 'vectorizer_params': {'model_name': 'indolem/indobert-base-uncased', 'max_length': 128, 'num_labels': 2, 'learning_rate': 2e-05, 'num_epochs': 2, 'batch_size': 8, 'warmup_steps': 50}, 'classifier_params': {}, 'is_fitted': False, 'classes': None, 'training_time': None}\n"
     ]
    }
   ],
   "source": [
    "# Create a simple TF-IDF + Logistic Regression pipeline\n",
    "# pipeline = TextClassificationPipeline(\n",
    "#     vectorizer_type=\"tfidf\",\n",
    "#     classifier_type=\"logistic_regression\",\n",
    "#     vectorizer_params={\n",
    "#         'max_features': 5000,\n",
    "#         'ngram_range': (1, 2),\n",
    "#         'use_preprocessing': True\n",
    "#     },\n",
    "#     classifier_params={\n",
    "#         'C': 1.0,\n",
    "#         'max_iter': 1000\n",
    "#     }\n",
    "# )\n",
    "\n",
    "\n",
    "# pipeline = TextClassificationPipeline(\n",
    "#     vectorizer_type=\"indobert\",\n",
    "#     classifier_type=\"logistic_regression\",\n",
    "#     vectorizer_params={\n",
    "#         'model_name': 'indolem/indobert-base-uncased',\n",
    "#         'pooling_strategy': 'mean',\n",
    "#         'max_length': 256  # Shorter for faster processing\n",
    "#     }\n",
    "# )\n",
    "\n",
    "pipeline = TextClassificationPipeline(\n",
    "    vectorizer_type=\"indobert_finetune\",\n",
    "    classifier_type=\"dummy\",  # Not used for fine-tuning\n",
    "    vectorizer_params={\n",
    "        'model_name': 'indolem/indobert-base-uncased',\n",
    "        'max_length': 128,\n",
    "        'num_labels': 2,\n",
    "        'learning_rate': 2e-5,\n",
    "        'num_epochs': 2,  # Small for demo\n",
    "        'batch_size': 8,  # Small batch for memory efficiency\n",
    "        'warmup_steps': 50\n",
    "    }\n",
    ")\n",
    "\n",
    "print(\"Pipeline configuration:\")\n",
    "print(pipeline.get_pipeline_info())"
   ]
  },
  {
   "cell_type": "code",
   "execution_count": 5,
   "metadata": {},
   "outputs": [
    {
     "name": "stdout",
     "output_type": "stream",
     "text": [
      "Training new model: indobert_finetune + dummy\n",
      "Training data: 800 samples\n",
      "==================================================\n",
      "Fine-tuning IndoBERT end-to-end (no separate classifier needed)...\n",
      "Fine-tuning IndoBERT on 800 samples...\n",
      "Device: cpu\n",
      "Epochs: 2, Batch size: 8, LR: 2e-05\n"
     ]
    },
    {
     "name": "stderr",
     "output_type": "stream",
     "text": [
      "Epoch 1/2: 100%|██████████| 100/100 [11:44<00:00,  7.05s/it, loss=0.4354]\n"
     ]
    },
    {
     "name": "stdout",
     "output_type": "stream",
     "text": [
      "Epoch 1 completed. Average loss: 0.5101\n"
     ]
    },
    {
     "name": "stderr",
     "output_type": "stream",
     "text": [
      "Epoch 2/2: 100%|██████████| 100/100 [11:37<00:00,  6.97s/it, loss=0.0855]\n"
     ]
    },
    {
     "name": "stdout",
     "output_type": "stream",
     "text": [
      "Epoch 2 completed. Average loss: 0.2499\n",
      "✅ Fine-tuning completed!\n",
      "      ✓ IndoBERT fine-tuned in 1402.31s\n",
      "==================================================\n",
      "✅ Pipeline training completed!\n",
      "   Total time: 1402.32s\n",
      "   Vectorizer: 1402.31s (100.0%)\n",
      "   Classifier: 0.00s (0.0%)\n"
     ]
    },
    {
     "ename": "TypeError",
     "evalue": "object of type 'NoneType' has no len()",
     "output_type": "error",
     "traceback": [
      "\u001b[31m---------------------------------------------------------------------------\u001b[39m",
      "\u001b[31mTypeError\u001b[39m                                 Traceback (most recent call last)",
      "\u001b[36mCell\u001b[39m\u001b[36m \u001b[39m\u001b[32mIn[5]\u001b[39m\u001b[32m, line 2\u001b[39m\n\u001b[32m      1\u001b[39m \u001b[38;5;66;03m# Train the pipeline\u001b[39;00m\n\u001b[32m----> \u001b[39m\u001b[32m2\u001b[39m \u001b[43mpipeline\u001b[49m\u001b[43m.\u001b[49m\u001b[43mfit\u001b[49m\u001b[43m(\u001b[49m\u001b[43mX_train\u001b[49m\u001b[43m,\u001b[49m\u001b[43m \u001b[49m\u001b[43my_train\u001b[49m\u001b[43m)\u001b[49m\n",
      "\u001b[36mFile \u001b[39m\u001b[32mc:\\Users\\aria\\Documents\\TextClassification\\pipeline.py:169\u001b[39m, in \u001b[36mTextClassificationPipeline.fit\u001b[39m\u001b[34m(self, X_train, y_train, force_retrain, auto_save, model_dir, verbose)\u001b[39m\n\u001b[32m    167\u001b[39m     \u001b[38;5;28mprint\u001b[39m(\u001b[33mf\u001b[39m\u001b[33m\"\u001b[39m\u001b[33m   Vectorizer: \u001b[39m\u001b[38;5;132;01m{\u001b[39;00mvectorizer_time\u001b[38;5;132;01m:\u001b[39;00m\u001b[33m.2f\u001b[39m\u001b[38;5;132;01m}\u001b[39;00m\u001b[33ms (\u001b[39m\u001b[38;5;132;01m{\u001b[39;00mvectorizer_time/\u001b[38;5;28mself\u001b[39m.training_time*\u001b[32m100\u001b[39m\u001b[38;5;132;01m:\u001b[39;00m\u001b[33m.1f\u001b[39m\u001b[38;5;132;01m}\u001b[39;00m\u001b[33m%)\u001b[39m\u001b[33m\"\u001b[39m)\n\u001b[32m    168\u001b[39m     \u001b[38;5;28mprint\u001b[39m(\u001b[33mf\u001b[39m\u001b[33m\"\u001b[39m\u001b[33m   Classifier: \u001b[39m\u001b[38;5;132;01m{\u001b[39;00mclassifier_time\u001b[38;5;132;01m:\u001b[39;00m\u001b[33m.2f\u001b[39m\u001b[38;5;132;01m}\u001b[39;00m\u001b[33ms (\u001b[39m\u001b[38;5;132;01m{\u001b[39;00mclassifier_time/\u001b[38;5;28mself\u001b[39m.training_time*\u001b[32m100\u001b[39m\u001b[38;5;132;01m:\u001b[39;00m\u001b[33m.1f\u001b[39m\u001b[38;5;132;01m}\u001b[39;00m\u001b[33m%)\u001b[39m\u001b[33m\"\u001b[39m)\n\u001b[32m--> \u001b[39m\u001b[32m169\u001b[39m     \u001b[38;5;28mprint\u001b[39m(\u001b[33mf\u001b[39m\u001b[33m\"\u001b[39m\u001b[33m   Classes detected: \u001b[39m\u001b[38;5;132;01m{\u001b[39;00m\u001b[38;5;28;43mlen\u001b[39;49m\u001b[43m(\u001b[49m\u001b[38;5;28;43mself\u001b[39;49m\u001b[43m.\u001b[49m\u001b[43mclasses_\u001b[49m\u001b[43m)\u001b[49m\u001b[38;5;132;01m}\u001b[39;00m\u001b[33m -> \u001b[39m\u001b[38;5;132;01m{\u001b[39;00m\u001b[38;5;28mlist\u001b[39m(\u001b[38;5;28mself\u001b[39m.classes_)\u001b[38;5;132;01m}\u001b[39;00m\u001b[33m\"\u001b[39m)\n\u001b[32m    171\u001b[39m \u001b[38;5;66;03m# Auto-save the trained model\u001b[39;00m\n\u001b[32m    172\u001b[39m \u001b[38;5;28;01mif\u001b[39;00m auto_save:\n",
      "\u001b[31mTypeError\u001b[39m: object of type 'NoneType' has no len()"
     ]
    }
   ],
   "source": [
    "# Train the pipeline\n",
    "pipeline.fit(X_train, y_train)"
   ]
  },
  {
   "cell_type": "code",
   "execution_count": 6,
   "metadata": {},
   "outputs": [
    {
     "name": "stderr",
     "output_type": "stream",
     "text": [
      "Generating predictions: 100%|██████████| 13/13 [00:05<00:00,  2.32it/s]\n",
      "Generating predictions: 100%|██████████| 13/13 [00:06<00:00,  1.99it/s]"
     ]
    },
    {
     "name": "stdout",
     "output_type": "stream",
     "text": [
      "\n",
      "=== Evaluation Results ===\n",
      "Accuracy: 92.0000%\n",
      "F1-Score (Weighted): 91.8809%\n",
      "F1-Score (Macro): 91.7321%\n",
      "Training Time: 1402.32 seconds\n",
      "Prediction Time: 12.1607 seconds\n"
     ]
    },
    {
     "name": "stderr",
     "output_type": "stream",
     "text": [
      "\n"
     ]
    }
   ],
   "source": [
    "# Evaluate on test set\n",
    "results = pipeline.evaluate(X_test, y_test)\n",
    "\n",
    "print(\"\\n=== Evaluation Results ===\")\n",
    "print(f\"Accuracy: {results['accuracy']:.4f}%\")\n",
    "print(f\"F1-Score (Weighted): {results['f1_weighted']:.4f}%\")\n",
    "print(f\"F1-Score (Macro): {results['f1_macro']:.4f}%\")\n",
    "print(f\"Training Time: {results['training_time']:.2f} seconds\")\n",
    "print(f\"Prediction Time: {results['prediction_time']:.4f} seconds\")"
   ]
  },
  {
   "cell_type": "code",
   "execution_count": 7,
   "metadata": {},
   "outputs": [
    {
     "name": "stdout",
     "output_type": "stream",
     "text": [
      "\n",
      "=== Classification Report ===\n"
     ]
    },
    {
     "name": "stderr",
     "output_type": "stream",
     "text": [
      "Generating predictions: 100%|██████████| 13/13 [00:06<00:00,  2.14it/s]"
     ]
    },
    {
     "name": "stdout",
     "output_type": "stream",
     "text": [
      "              precision    recall  f1-score   support\n",
      "\n",
      "           0       0.87      1.00      0.93        55\n",
      "           1       1.00      0.82      0.90        45\n",
      "\n",
      "    accuracy                           0.92       100\n",
      "   macro avg       0.94      0.91      0.92       100\n",
      "weighted avg       0.93      0.92      0.92       100\n",
      "\n"
     ]
    },
    {
     "name": "stderr",
     "output_type": "stream",
     "text": [
      "\n"
     ]
    }
   ],
   "source": [
    "# Show detailed classification report\n",
    "print(\"\\n=== Classification Report ===\")\n",
    "print(pipeline.get_classification_report(X_test, y_test))"
   ]
  },
  {
   "cell_type": "code",
   "execution_count": 8,
   "metadata": {},
   "outputs": [
    {
     "name": "stderr",
     "output_type": "stream",
     "text": [
      "Generating predictions: 100%|██████████| 13/13 [00:07<00:00,  1.85it/s]\n"
     ]
    },
    {
     "data": {
      "image/png": "[encoded data removed]",
      "text/plain": [
       "<Figure size 800x600 with 2 Axes>"
      ]
     },
     "metadata": {},
     "output_type": "display_data"
    }
   ],
   "source": [
    "# Plot confusion matrix\n",
    "cm = pipeline.get_confusion_matrix(X_test, y_test)\n",
    "labels = [loader.label_mapping[i] for i in sorted(loader.label_mapping.keys())]\n",
    "\n",
    "plt.figure(figsize=(8, 6))\n",
    "sns.heatmap(cm, annot=True, fmt='d', cmap='Blues', \n",
    "            xticklabels=labels, yticklabels=labels)\n",
    "plt.title('Confusion Matrix - TF-IDF + Logistic Regression')\n",
    "plt.ylabel('True Label')\n",
    "plt.xlabel('Predicted Label')\n",
    "plt.show()"
   ]
  },
  {
   "cell_type": "markdown",
   "metadata": {},
   "source": [
    "## 4. Testing Individual Predictions"
   ]
  },
  {
   "cell_type": "code",
   "execution_count": 9,
   "metadata": {},
   "outputs": [
    {
     "name": "stderr",
     "output_type": "stream",
     "text": [
      "Generating predictions: 100%|██████████| 1/1 [00:00<00:00,  9.56it/s]\n",
      "Generating predictions: 100%|██████████| 1/1 [00:00<00:00, 11.31it/s]"
     ]
    },
    {
     "name": "stdout",
     "output_type": "stream",
     "text": [
      "=== Individual Predictions ===\n",
      "\n",
      "Text: Makanan ini sangat enak dan pelayanannya memuaskan!\n",
      "Predicted: positive (confidence: 0.963)\n",
      "All probabilities:\n",
      "  negative: 0.037\n",
      "  positive: 0.963\n",
      "\n",
      "Text: Pelayanan buruk sekali, sangat mengecewakan\n",
      "Predicted: negative (confidence: 0.855)\n",
      "All probabilities:\n",
      "  negative: 0.855\n",
      "  positive: 0.145\n",
      "\n",
      "Text: Cuaca hari ini biasa saja, tidak terlalu panas\n",
      "Predicted: positive (confidence: 0.757)\n",
      "All probabilities:\n",
      "  negative: 0.243\n",
      "  positive: 0.757\n",
      "\n",
      "Text: Film yang menakjubkan, sangat saya rekomendasikan!\n",
      "Predicted: positive (confidence: 0.865)\n",
      "All probabilities:\n",
      "  negative: 0.135\n",
      "  positive: 0.865\n",
      "\n",
      "Text: Produk ini tidak sesuai dengan ekspektasi saya\n",
      "Predicted: negative (confidence: 0.922)\n",
      "All probabilities:\n",
      "  negative: 0.922\n",
      "  positive: 0.078\n"
     ]
    },
    {
     "name": "stderr",
     "output_type": "stream",
     "text": [
      "\n"
     ]
    }
   ],
   "source": [
    "# Test with custom Indonesian texts\n",
    "test_texts = [\n",
    "    \"Makanan ini sangat enak dan pelayanannya memuaskan!\",\n",
    "    \"Pelayanan buruk sekali, sangat mengecewakan\",\n",
    "    \"Cuaca hari ini biasa saja, tidak terlalu panas\",\n",
    "    \"Film yang menakjubkan, sangat saya rekomendasikan!\",\n",
    "    \"Produk ini tidak sesuai dengan ekspektasi saya\"\n",
    "]\n",
    "\n",
    "predictions = pipeline.predict(test_texts)\n",
    "probabilities = pipeline.predict_proba(test_texts)\n",
    "\n",
    "print(\"=== Individual Predictions ===\")\n",
    "for i, text in enumerate(test_texts):\n",
    "    pred_label = loader.label_mapping[predictions[i]]\n",
    "    confidence = np.max(probabilities[i])\n",
    "    print(f\"\\nText: {text}\")\n",
    "    print(f\"Predicted: {pred_label} (confidence: {confidence:.3f})\")\n",
    "    \n",
    "    # Show all probabilities\n",
    "    print(\"All probabilities:\")\n",
    "    for j, prob in enumerate(probabilities[i]):\n",
    "        label_name = loader.label_mapping[j]\n",
    "        print(f\"  {label_name}: {prob:.3f}\")"
   ]
  },
  {
   "cell_type": "markdown",
   "metadata": {},
   "source": [
    "## 5. Experimenting with Different Vectorizers"
   ]
  },
  {
   "cell_type": "markdown",
   "metadata": {},
   "source": [
    "### 5.1 TF-IDF with Different Parameters"
   ]
  },
  {
   "cell_type": "code",
   "execution_count": null,
   "metadata": {},
   "outputs": [],
   "source": [
    "# # Test different TF-IDF configurations\n",
    "# tfidf_configs = [\n",
    "#     {'name': 'TF-IDF (unigrams)', 'params': {'max_features': 5000, 'ngram_range': (1, 1)}},\n",
    "#     {'name': 'TF-IDF (bigrams)', 'params': {'max_features': 5000, 'ngram_range': (1, 2)}},\n",
    "#     {'name': 'TF-IDF (trigrams)', 'params': {'max_features': 5000, 'ngram_range': (1, 3)}},\n",
    "#     {'name': 'TF-IDF (large vocab)', 'params': {'max_features': 10000, 'ngram_range': (1, 2)}},\n",
    "# ]\n",
    "\n",
    "# tfidf_results = []\n",
    "\n",
    "# for config in tfidf_configs:\n",
    "#     print(f\"\\nTesting {config['name']}...\")\n",
    "    \n",
    "#     pipeline_test = TextClassificationPipeline(\n",
    "#         vectorizer_type=\"tfidf\",\n",
    "#         classifier_type=\"logistic_regression\",\n",
    "#         vectorizer_params=config['params']\n",
    "#     )\n",
    "    \n",
    "#     pipeline_test.fit(X_train, y_train)\n",
    "#     results = pipeline_test.evaluate(X_test, y_test)\n",
    "    \n",
    "#     tfidf_results.append({\n",
    "#         'name': config['name'],\n",
    "#         'accuracy': results['accuracy'],\n",
    "#         'f1_weighted': results['f1_weighted'],\n",
    "#         'training_time': results['training_time']\n",
    "#     })\n",
    "    \n",
    "#     print(f\"Accuracy: {results['accuracy']:.4f}, F1: {results['f1_weighted']:.4f}\")\n",
    "\n",
    "# # Display results\n",
    "# tfidf_df = pd.DataFrame(tfidf_results)\n",
    "# print(\"\\n=== TF-IDF Configuration Comparison ===\")\n",
    "# print(tfidf_df.round(4))"
   ]
  },
  {
   "cell_type": "markdown",
   "metadata": {},
   "source": [
    "### 5.2 IndoBERT (if available)"
   ]
  },
  {
   "cell_type": "code",
   "execution_count": null,
   "metadata": {},
   "outputs": [],
   "source": [
    "# # Test IndoBERT vectorizer (this might take longer)\n",
    "# # Note: IndoBERT requires GPU for reasonable performance\n",
    "\n",
    "# try:\n",
    "#     print(\"Testing IndoBERT vectorizer...\")\n",
    "#     print(\"Warning: This may take several minutes without GPU acceleration\")\n",
    "    \n",
    "#     indobert_pipeline = TextClassificationPipeline(\n",
    "#         vectorizer_type=\"indobert\",\n",
    "#         classifier_type=\"logistic_regression\",\n",
    "#         vectorizer_params={\n",
    "#             'model_name': 'indolem/indobert-base-uncased',\n",
    "#             'pooling_strategy': 'mean',\n",
    "#             'max_length': 256  # Shorter for faster processing\n",
    "#         }\n",
    "#     )\n",
    "    \n",
    "#     # Use smaller subset for faster training\n",
    "#     subset_size = min(50, len(X_train))  # Use only first 50 samples\n",
    "#     X_train_subset = X_train[:subset_size]\n",
    "#     y_train_subset = y_train[:subset_size]\n",
    "    \n",
    "#     indobert_pipeline.fit(X_train_subset, y_train_subset)\n",
    "#     indobert_results = indobert_pipeline.evaluate(X_test, y_test)\n",
    "    \n",
    "#     print(f\"\\nIndoBERT Results:\")\n",
    "#     print(f\"Accuracy: {indobert_results['accuracy']:.4f}\")\n",
    "#     print(f\"F1-Score: {indobert_results['f1_weighted']:.4f}\")\n",
    "#     print(f\"Training Time: {indobert_results['training_time']:.2f} seconds\")\n",
    "    \n",
    "# except Exception as e:\n",
    "#     print(f\"IndoBERT test failed: {str(e)}\")\n",
    "#     print(\"This is expected if you don't have the required dependencies installed\")\n",
    "#     print(\"You can install them with: pip install transformers torch\")"
   ]
  },
  {
   "cell_type": "markdown",
   "metadata": {},
   "source": [
    "## 6. Experimenting with Different Classifiers"
   ]
  },
  {
   "cell_type": "code",
   "execution_count": null,
   "metadata": {},
   "outputs": [],
   "source": [
    "# # Test different classifiers with TF-IDF\n",
    "# classifier_configs = [\n",
    "#     {'name': 'Logistic Regression', 'type': 'logistic_regression', 'params': {'C': 1.0}},\n",
    "#     {'name': 'SVM (Linear)', 'type': 'svm', 'params': {'C': 1.0, 'kernel': 'linear'}},\n",
    "#     {'name': 'Random Forest', 'type': 'random_forest', 'params': {'n_estimators': 100}},\n",
    "#     {'name': 'Naive Bayes', 'type': 'naive_bayes', 'params': {'alpha': 1.0}}\n",
    "# ]\n",
    "\n",
    "# classifier_results = []\n",
    "\n",
    "# # Use consistent TF-IDF parameters\n",
    "# tfidf_params = {'max_features': 5000, 'ngram_range': (1, 2), 'use_preprocessing': True}\n",
    "\n",
    "# for config in classifier_configs:\n",
    "#     print(f\"\\nTesting {config['name']}...\")\n",
    "    \n",
    "#     try:\n",
    "#         pipeline_test = TextClassificationPipeline(\n",
    "#             vectorizer_type=\"tfidf\",\n",
    "#             classifier_type=config['type'],\n",
    "#             vectorizer_params=tfidf_params,\n",
    "#             classifier_params=config['params']\n",
    "#         )\n",
    "        \n",
    "#         pipeline_test.fit(X_train, y_train)\n",
    "#         results = pipeline_test.evaluate(X_test, y_test)\n",
    "        \n",
    "#         classifier_results.append({\n",
    "#             'classifier': config['name'],\n",
    "#             'accuracy': results['accuracy'],\n",
    "#             'f1_weighted': results['f1_weighted'],\n",
    "#             'f1_macro': results['f1_macro'],\n",
    "#             'training_time': results['training_time']\n",
    "#         })\n",
    "        \n",
    "#         print(f\"Accuracy: {results['accuracy']:.4f}, F1: {results['f1_weighted']:.4f}\")\n",
    "        \n",
    "#     except Exception as e:\n",
    "#         print(f\"Error with {config['name']}: {str(e)}\")\n",
    "\n",
    "# # Display results\n",
    "# classifier_df = pd.DataFrame(classifier_results)\n",
    "# print(\"\\n=== Classifier Comparison ===\")\n",
    "# print(classifier_df.round(4))"
   ]
  },
  {
   "cell_type": "code",
   "execution_count": null,
   "metadata": {},
   "outputs": [],
   "source": [
    "# # Visualize classifier comparison\n",
    "# if len(classifier_results) > 0:\n",
    "#     fig, (ax1, ax2) = plt.subplots(1, 2, figsize=(15, 5))\n",
    "    \n",
    "#     # Accuracy comparison\n",
    "#     ax1.bar(classifier_df['classifier'], classifier_df['accuracy'])\n",
    "#     ax1.set_title('Accuracy by Classifier')\n",
    "#     ax1.set_ylabel('Accuracy')\n",
    "#     ax1.tick_params(axis='x', rotation=45)\n",
    "    \n",
    "#     # F1-Score comparison\n",
    "#     ax2.bar(classifier_df['classifier'], classifier_df['f1_weighted'])\n",
    "#     ax2.set_title('F1-Score (Weighted) by Classifier')\n",
    "#     ax2.set_ylabel('F1-Score')\n",
    "#     ax2.tick_params(axis='x', rotation=45)\n",
    "    \n",
    "#     plt.tight_layout()\n",
    "#     plt.show()"
   ]
  },
  {
   "cell_type": "markdown",
   "metadata": {},
   "source": [
    "## 7. Comprehensive Pipeline Comparison"
   ]
  },
  {
   "cell_type": "code",
   "execution_count": null,
   "metadata": {},
   "outputs": [],
   "source": [
    "# # Use the PipelineComparison class for systematic comparison\n",
    "# comparison = PipelineComparison()\n",
    "\n",
    "# # Add different pipeline configurations\n",
    "# pipelines_to_compare = [\n",
    "#     {\n",
    "#         'name': 'TF-IDF + LR',\n",
    "#         'vectorizer': 'tfidf',\n",
    "#         'classifier': 'logistic_regression',\n",
    "#         'v_params': {'max_features': 5000, 'ngram_range': (1, 2)},\n",
    "#         'c_params': {'C': 1.0}\n",
    "#     },\n",
    "#     {\n",
    "#         'name': 'TF-IDF + SVM',\n",
    "#         'vectorizer': 'tfidf',\n",
    "#         'classifier': 'svm',\n",
    "#         'v_params': {'max_features': 5000, 'ngram_range': (1, 2)},\n",
    "#         'c_params': {'C': 1.0, 'kernel': 'linear'}\n",
    "#     },\n",
    "#     {\n",
    "#         'name': 'TF-IDF + RF',\n",
    "#         'vectorizer': 'tfidf',\n",
    "#         'classifier': 'random_forest',\n",
    "#         'v_params': {'max_features': 5000, 'ngram_range': (1, 2)},\n",
    "#         'c_params': {'n_estimators': 50}  # Reduced for faster training\n",
    "#     }\n",
    "# ]\n",
    "\n",
    "# for config in pipelines_to_compare:\n",
    "#     pipeline = TextClassificationPipeline(\n",
    "#         vectorizer_type=config['vectorizer'],\n",
    "#         classifier_type=config['classifier'],\n",
    "#         vectorizer_params=config['v_params'],\n",
    "#         classifier_params=config['c_params']\n",
    "#     )\n",
    "#     comparison.add_pipeline(pipeline, config['name'])\n",
    "\n",
    "# # Run comparison\n",
    "# comparison_results = comparison.compare_pipelines(X_train, y_train, X_test, y_test)\n",
    "# print(\"\\n=== Pipeline Comparison Results ===\")\n",
    "# print(comparison_results)"
   ]
  },
  {
   "cell_type": "code",
   "execution_count": null,
   "metadata": {},
   "outputs": [],
   "source": [
    "# # Find the best pipeline\n",
    "# best_pipeline_info = comparison.get_best_pipeline(metric='f1_weighted')\n",
    "# print(f\"\\nBest pipeline (by F1-weighted): {best_pipeline_info['pipeline_name']}\")\n",
    "# print(f\"F1-Score: {best_pipeline_info['f1_weighted']:.4f}\")\n",
    "# print(f\"Accuracy: {best_pipeline_info['accuracy']:.4f}\")"
   ]
  },
  {
   "cell_type": "code",
   "execution_count": null,
   "metadata": {},
   "outputs": [],
   "source": [
    "# # Visualize comparison results\n",
    "# if len(comparison_results) > 0:\n",
    "#     fig, ((ax1, ax2), (ax3, ax4)) = plt.subplots(2, 2, figsize=(15, 10))\n",
    "    \n",
    "#     # Accuracy\n",
    "#     ax1.bar(comparison_results['pipeline_name'], comparison_results['accuracy'])\n",
    "#     ax1.set_title('Accuracy Comparison')\n",
    "#     ax1.set_ylabel('Accuracy')\n",
    "#     ax1.tick_params(axis='x', rotation=45)\n",
    "    \n",
    "#     # F1-Score\n",
    "#     ax2.bar(comparison_results['pipeline_name'], comparison_results['f1_weighted'])\n",
    "#     ax2.set_title('F1-Score (Weighted) Comparison')\n",
    "#     ax2.set_ylabel('F1-Score')\n",
    "#     ax2.tick_params(axis='x', rotation=45)\n",
    "    \n",
    "#     # Training Time\n",
    "#     ax3.bar(comparison_results['pipeline_name'], comparison_results['training_time'])\n",
    "#     ax3.set_title('Training Time Comparison')\n",
    "#     ax3.set_ylabel('Time (seconds)')\n",
    "#     ax3.tick_params(axis='x', rotation=45)\n",
    "    \n",
    "#     # Prediction Time\n",
    "#     ax4.bar(comparison_results['pipeline_name'], comparison_results['prediction_time'])\n",
    "#     ax4.set_title('Prediction Time Comparison')\n",
    "#     ax4.set_ylabel('Time (seconds)')\n",
    "#     ax4.tick_params(axis='x', rotation=45)\n",
    "    \n",
    "#     plt.tight_layout()\n",
    "#     plt.show()"
   ]
  },
  {
   "cell_type": "markdown",
   "metadata": {},
   "source": [
    "## 8. Interactive Pipeline Builder"
   ]
  },
  {
   "cell_type": "code",
   "execution_count": null,
   "metadata": {},
   "outputs": [],
   "source": [
    "# # Interactive function to build and test custom pipelines\n",
    "# def build_custom_pipeline():\n",
    "#     \"\"\"\n",
    "#     Interactive function to build a custom pipeline\n",
    "#     \"\"\"\n",
    "#     print(\"=== Custom Pipeline Builder ===\")\n",
    "#     print(\"Available vectorizers:\", VectorizerFactory.get_available_vectorizers())\n",
    "#     print(\"Available classifiers:\", list(ClassifierFactory.get_available_classifiers().keys()))\n",
    "#     print(\"\\nNote: Modify the code below to test different configurations\")\n",
    "    \n",
    "#     # Example custom configuration - modify these as needed\n",
    "#     custom_config = {\n",
    "#         'vectorizer_type': 'tfidf',  # Change to 'indobert' if available\n",
    "#         'classifier_type': 'logistic_regression',  # Try 'svm', 'random_forest', 'naive_bayes'\n",
    "#         'vectorizer_params': {\n",
    "#             'max_features': 8000,  # Try different values: 5000, 10000, 15000\n",
    "#             'ngram_range': (1, 3),  # Try (1,1), (1,2), (1,3), (2,3)\n",
    "#             'use_preprocessing': True\n",
    "#         },\n",
    "#         'classifier_params': {\n",
    "#             'C': 0.1,  # Try different C values: 0.1, 1.0, 10.0\n",
    "#             'max_iter': 1000\n",
    "#         }\n",
    "#     }\n",
    "    \n",
    "#     # Build and test the custom pipeline\n",
    "#     custom_pipeline = TextClassificationPipeline(**custom_config)\n",
    "    \n",
    "#     print(f\"\\nBuilding custom pipeline: {custom_config['vectorizer_type']} + {custom_config['classifier_type']}\")\n",
    "#     custom_pipeline.fit(X_train, y_train)\n",
    "    \n",
    "#     custom_results = custom_pipeline.evaluate(X_test, y_test)\n",
    "#     print(f\"\\nCustom Pipeline Results:\")\n",
    "#     print(f\"Accuracy: {custom_results['accuracy']:.4f}\")\n",
    "#     print(f\"F1-Score (Weighted): {custom_results['f1_weighted']:.4f}\")\n",
    "#     print(f\"F1-Score (Macro): {custom_results['f1_macro']:.4f}\")\n",
    "#     print(f\"Training Time: {custom_results['training_time']:.2f} seconds\")\n",
    "    \n",
    "#     return custom_pipeline, custom_results\n",
    "\n",
    "# # Run the custom pipeline builder\n",
    "# custom_pipeline, custom_results = build_custom_pipeline()"
   ]
  },
  {
   "cell_type": "markdown",
   "metadata": {},
   "source": [
    "## 9. Feature Analysis (for TF-IDF)"
   ]
  },
  {
   "cell_type": "code",
   "execution_count": null,
   "metadata": {},
   "outputs": [],
   "source": [
    "# # Analyze TF-IDF features and their importance\n",
    "# if hasattr(custom_pipeline.vectorizer, 'get_feature_names') and hasattr(custom_pipeline.classifier, 'get_feature_importance'):\n",
    "#     try:\n",
    "#         # Get feature names and importance\n",
    "#         feature_names = custom_pipeline.vectorizer.get_feature_names()\n",
    "#         feature_importance = custom_pipeline.classifier.get_feature_importance()\n",
    "        \n",
    "#         # Create DataFrame for analysis\n",
    "#         if len(feature_importance.shape) > 1:\n",
    "#             # Multi-class case - use absolute mean across classes\n",
    "#             importance_scores = np.abs(feature_importance).mean(axis=0)\n",
    "#         else:\n",
    "#             # Binary case\n",
    "#             importance_scores = np.abs(feature_importance)\n",
    "        \n",
    "#         feature_df = pd.DataFrame({\n",
    "#             'feature': feature_names,\n",
    "#             'importance': importance_scores\n",
    "#         }).sort_values('importance', ascending=False)\n",
    "        \n",
    "#         print(\"\\n=== Top 20 Most Important Features ===\")\n",
    "#         print(feature_df.head(20))\n",
    "        \n",
    "#         # Plot top features\n",
    "#         plt.figure(figsize=(12, 8))\n",
    "#         top_features = feature_df.head(15)\n",
    "#         plt.barh(range(len(top_features)), top_features['importance'])\n",
    "#         plt.yticks(range(len(top_features)), top_features['feature'])\n",
    "#         plt.xlabel('Importance Score')\n",
    "#         plt.title('Top 15 Most Important Features (TF-IDF + Logistic Regression)')\n",
    "#         plt.gca().invert_yaxis()\n",
    "#         plt.tight_layout()\n",
    "#         plt.show()\n",
    "        \n",
    "#     except Exception as e:\n",
    "#         print(f\"Feature analysis failed: {str(e)}\")\n",
    "# else:\n",
    "#     print(\"Feature analysis not available for this pipeline configuration\")"
   ]
  },
  {
   "cell_type": "markdown",
   "metadata": {},
   "source": [
    "## 10. Save and Load Pipeline"
   ]
  },
  {
   "cell_type": "code",
   "execution_count": null,
   "metadata": {},
   "outputs": [],
   "source": [
    "# # Save the best performing pipeline\n",
    "# model_path = \"best_sentiment_pipeline.pkl\"\n",
    "\n",
    "# try:\n",
    "#     custom_pipeline.save_pipeline(model_path)\n",
    "#     print(f\"Pipeline saved to {model_path}\")\n",
    "    \n",
    "#     # Test loading\n",
    "#     loaded_pipeline = TextClassificationPipeline.load_pipeline(model_path)\n",
    "#     print(\"Pipeline loaded successfully!\")\n",
    "    \n",
    "#     # Test that loaded pipeline works\n",
    "#     test_text = [\"Makanan ini sangat enak!\"]\n",
    "#     prediction = loaded_pipeline.predict(test_text)\n",
    "#     label_name = loader.label_mapping[prediction[0]]\n",
    "#     print(f\"\\nTest prediction with loaded model: '{test_text[0]}' -> {label_name}\")\n",
    "    \n",
    "# except Exception as e:\n",
    "#     print(f\"Error saving/loading pipeline: {str(e)}\")"
   ]
  },
  {
   "cell_type": "markdown",
   "metadata": {},
   "source": [
    "## 11. Summary and Next Steps"
   ]
  },
  {
   "cell_type": "code",
   "execution_count": null,
   "metadata": {},
   "outputs": [],
   "source": [
    "# print(\"=== Modular Text Classification System Summary ===\")\n",
    "# print()\n",
    "# print(\"✅ Components Successfully Demonstrated:\")\n",
    "# print(\"   • TF-IDF Vectorizer with Indonesian preprocessing\")\n",
    "# print(\"   • Multiple classifier options (LR, SVM, RF, NB)\")\n",
    "# print(\"   • Modular pipeline with easy component switching\")\n",
    "# print(\"   • Comprehensive evaluation and comparison tools\")\n",
    "# print(\"   • Feature importance analysis\")\n",
    "# print(\"   • Model persistence (save/load)\")\n",
    "# print()\n",
    "# print(\"🎯 Key Benefits:\")\n",
    "# print(\"   • Easy to switch between vectorizers and classifiers\")\n",
    "# print(\"   • Consistent API across different components\")\n",
    "# print(\"   • Built-in evaluation and comparison tools\")\n",
    "# print(\"   • Indonesian text preprocessing included\")\n",
    "# print(\"   • Extensible architecture for new components\")\n",
    "# print()\n",
    "# print(\"🚀 Suggested Next Steps:\")\n",
    "# print(\"   1. Try with real IndoNLU dataset (change 'sample' to 'indonlu')\")\n",
    "# print(\"   2. Experiment with IndoBERT if you have GPU resources\")\n",
    "# print(\"   3. Add more sophisticated preprocessing techniques\")\n",
    "# print(\"   4. Implement cross-validation for more robust evaluation\")\n",
    "# print(\"   5. Add ensemble methods combining multiple models\")\n",
    "# print(\"   6. Implement active learning for improving model with less data\")\n",
    "# print()\n",
    "# print(\"📝 Usage Examples:\")\n",
    "# print(\"   # Quick single pipeline\")\n",
    "# print(\"   pipeline = TextClassificationPipeline('tfidf', 'logistic_regression')\")\n",
    "# print(\"   pipeline.fit(X_train, y_train)\")\n",
    "# print(\"   predictions = pipeline.predict(X_test)\")\n",
    "# print()\n",
    "# print(\"   # Compare multiple pipelines\")\n",
    "# print(\"   comparison = PipelineComparison()\")\n",
    "# print(\"   comparison.add_pipeline(pipeline1, 'Config 1')\")\n",
    "# print(\"   results = comparison.compare_pipelines(X_train, y_train, X_test, y_test)\")"
   ]
  },
  {
   "cell_type": "markdown",
   "metadata": {},
   "source": [
    "## 12. Playground Cell - Try Your Own Experiments!"
   ]
  },
  {
   "cell_type": "code",
   "execution_count": null,
   "metadata": {},
   "outputs": [],
   "source": [
    "# This cell is for your own experiments!\n",
    "# Try different configurations, test new ideas, or analyze results in more detail\n",
    "\n",
    "print(\"=== Available Vectorizers ===\")\n",
    "print(\"Available vectorizers:\", VectorizerFactory.get_available_vectorizers())\n",
    "\n",
    "# Example 1: Traditional TF-IDF + SVM Pipeline\n",
    "print(\"\\n=== Example 1: TF-IDF + SVM ===\")\n",
    "tfidf_pipeline = TextClassificationPipeline(\n",
    "    vectorizer_type=\"tfidf\",\n",
    "    classifier_type=\"svm\",\n",
    "    vectorizer_params={\n",
    "        'max_features': 5000,\n",
    "        'ngram_range': (1, 2),\n",
    "        'use_preprocessing': True\n",
    "    },\n",
    "    classifier_params={\n",
    "        'C': 0.5,\n",
    "        'kernel': 'linear'\n",
    "    }\n",
    ")\n",
    "\n",
    "print(\"TF-IDF Pipeline configuration:\")\n",
    "print(tfidf_pipeline.get_pipeline_info())\n",
    "\n",
    "# Example 2: IndoBERT Frozen Features + Logistic Regression  \n",
    "print(\"\\n=== Example 2: IndoBERT Frozen Features ===\")\n",
    "indobert_frozen_pipeline = TextClassificationPipeline(\n",
    "    vectorizer_type=\"indobert\",\n",
    "    classifier_type=\"logistic_regression\",\n",
    "    vectorizer_params={\n",
    "        'model_name': 'indolem/indobert-base-uncased',\n",
    "        'max_length': 128,\n",
    "        'pooling_strategy': 'mean'\n",
    "    },\n",
    "    classifier_params={\n",
    "        'C': 1.0,\n",
    "        'max_iter': 1000\n",
    "    }\n",
    ")\n",
    "\n",
    "print(\"IndoBERT Frozen Features Pipeline configuration:\")\n",
    "print(indobert_frozen_pipeline.get_pipeline_info())\n",
    "\n",
    "# Example 3: IndoBERT Fine-tuning (End-to-End)\n",
    "print(\"\\n=== Example 3: IndoBERT Fine-tuning ===\")\n",
    "indobert_finetune_pipeline = TextClassificationPipeline(\n",
    "    vectorizer_type=\"indobert_finetune\",\n",
    "    classifier_type=\"dummy\",  # Not used for fine-tuning\n",
    "    vectorizer_params={\n",
    "        'model_name': 'indolem/indobert-base-uncased',\n",
    "        'max_length': 128,\n",
    "        'num_labels': 2,\n",
    "        'learning_rate': 2e-5,\n",
    "        'num_epochs': 2,  # Small for demo\n",
    "        'batch_size': 8,  # Small batch for memory efficiency\n",
    "        'warmup_steps': 50\n",
    "    }\n",
    ")\n",
    "\n",
    "print(\"IndoBERT Fine-tuning Pipeline configuration:\")\n",
    "print(indobert_finetune_pipeline.get_pipeline_info())\n",
    "\n",
    "# Compare approaches with small subset for demo\n",
    "print(\"\\n=== Quick Comparison with Small Dataset ===\")\n",
    "# Use very small dataset for quick demo (adjust as needed)\n",
    "X_train_demo, X_val_demo, X_test_demo, y_train_demo, y_val_demo, y_test_demo = loader.get_train_test_split(\n",
    "    test_size=0.2, val_size=0.1, random_state=42, max_samples=100  # Very small for demo\n",
    ")\n",
    "\n",
    "print(f\"Demo dataset: {len(X_train_demo)} train, {len(X_test_demo)} test samples\")\n",
    "\n",
    "# 1. Quick TF-IDF baseline\n",
    "print(\"\\n--- Training TF-IDF Baseline ---\")\n",
    "tfidf_pipeline.fit(X_train_demo, y_train_demo, verbose=True)\n",
    "tfidf_results = tfidf_pipeline.evaluate(X_test_demo, y_test_demo)\n",
    "\n",
    "print(f\"TF-IDF Results: {tfidf_results['accuracy']:.1f}% accuracy, {tfidf_results['f1_weighted']:.1f}% F1\")\n",
    "\n",
    "# 2. IndoBERT Fine-tuning (uncomment to try - requires GPU for reasonable speed)\n",
    "print(\"\\n--- IndoBERT Fine-tuning (requires patience!) ---\")\n",
    "print(\"WARNING: This will take several minutes even with small dataset!\")\n",
    "print(\"Uncomment the lines below to try fine-tuning:\")\n",
    "\n",
    "# try:\n",
    "#     indobert_finetune_pipeline.fit(X_train_demo, y_train_demo, verbose=True)\n",
    "#     finetune_results = indobert_finetune_pipeline.evaluate(X_test_demo, y_test_demo)\n",
    "#     print(f\"Fine-tuned Results: {finetune_results['accuracy']:.1f}% accuracy, {finetune_results['f1_weighted']:.1f}% F1\")\n",
    "# except Exception as e:\n",
    "#     print(f\"Fine-tuning failed: {e}\")\n",
    "\n",
    "# Test predictions with different approaches\n",
    "print(\"\\n=== Testing Individual Predictions ===\")\n",
    "test_texts = [\n",
    "    \"Makanan di restoran ini sangat enak dan pelayanannya memuaskan!\",\n",
    "    \"Pelayanan buruk sekali, sangat mengecewakan\"\n",
    "]\n",
    "\n",
    "print(\"TF-IDF Predictions:\")\n",
    "for text in test_texts:\n",
    "    pred = tfidf_pipeline.predict([text])[0]\n",
    "    prob = tfidf_pipeline.predict_proba([text])[0]\n",
    "    label = loader.label_mapping[pred]\n",
    "    confidence = max(prob)\n",
    "    print(f\"  '{text}' -> {label} ({confidence:.3f})\")\n",
    "\n",
    "print(\"\\nTo try IndoBERT fine-tuning:\")\n",
    "print(\"1. Uncomment the fine-tuning code above\")  \n",
    "print(\"2. Increase max_samples for better results (but longer training)\")\n",
    "print(\"3. Ensure you have sufficient GPU memory or use smaller batch_size\")\n",
    "print(\"4. Monitor GPU usage during training\")\n",
    "\n",
    "# Additional hyperparameter suggestions\n",
    "print(\"\\n=== Fine-tuning Hyperparameter Suggestions ===\")\n",
    "print(\"For experimentation, try these parameter combinations:\")\n",
    "print(\"- Small dataset (<1000): epochs=3-5, batch_size=8-16, lr=2e-5\")\n",
    "print(\"- Medium dataset (1000-5000): epochs=2-3, batch_size=16-32, lr=1e-5\") \n",
    "print(\"- Large dataset (>5000): epochs=1-2, batch_size=32-64, lr=5e-6\")\n",
    "print(\"- For CPU training: batch_size=4-8, expect 10x slower training\")"
   ]
  }
 ],
 "metadata": {
  "kernelspec": {
   "display_name": "env (3.13.6)",
   "language": "python",
   "name": "python3"
  },
  "language_info": {
   "codemirror_mode": {
    "name": "ipython",
    "version": 3
   },
   "file_extension": ".py",
   "mimetype": "text/x-python",
   "name": "python",
   "nbconvert_exporter": "python",
   "pygments_lexer": "ipython3",
   "version": "3.13.6"
  }
 },
 "nbformat": 4,
 "nbformat_minor": 4
}